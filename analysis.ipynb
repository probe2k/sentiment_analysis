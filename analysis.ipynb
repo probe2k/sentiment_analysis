{
 "metadata": {
  "language_info": {
   "codemirror_mode": {
    "name": "ipython",
    "version": 3
   },
   "file_extension": ".py",
   "mimetype": "text/x-python",
   "name": "python",
   "nbconvert_exporter": "python",
   "pygments_lexer": "ipython3",
   "version": "3.7.7-final"
  },
  "orig_nbformat": 2,
  "kernelspec": {
   "name": "python_defaultSpec_1600806350649",
   "display_name": "Python 3.7.7 64-bit ('base': conda)"
  }
 },
 "nbformat": 4,
 "nbformat_minor": 2,
 "cells": [
  {
   "cell_type": "code",
   "execution_count": 1,
   "metadata": {},
   "outputs": [],
   "source": [
    "# Sentiment Analysis (NLP Model) - posts/comments @ Twitter.csv read"
   ]
  },
  {
   "cell_type": "code",
   "execution_count": 3,
   "metadata": {},
   "outputs": [],
   "source": [
    "import pandas as pd\n",
    "import numpy as np\n",
    "import seaborn as sns\n",
    "import matplotlib.pyplot as plt"
   ]
  },
  {
   "cell_type": "code",
   "execution_count": 4,
   "metadata": {},
   "outputs": [],
   "source": [
    "dataframe = pd.read_csv('dataset/twitter.csv')"
   ]
  },
  {
   "cell_type": "code",
   "execution_count": 5,
   "metadata": {},
   "outputs": [
    {
     "output_type": "execute_result",
     "data": {
      "text/plain": "          id  label                                              tweet\n0          1      0   @user when a father is dysfunctional and is s...\n1          2      0  @user @user thanks for #lyft credit i can't us...\n2          3      0                                bihday your majesty\n3          4      0  #model   i love u take with u all the time in ...\n4          5      0             factsguide: society now    #motivation\n...      ...    ...                                                ...\n31957  31958      0  ate @user isz that youuu?ðððððð...\n31958  31959      0    to see nina turner on the airwaves trying to...\n31959  31960      0  listening to sad songs on a monday morning otw...\n31960  31961      1  @user #sikh #temple vandalised in in #calgary,...\n31961  31962      0                   thank you @user for you follow  \n\n[31962 rows x 3 columns]",
      "text/html": "<div>\n<style scoped>\n    .dataframe tbody tr th:only-of-type {\n        vertical-align: middle;\n    }\n\n    .dataframe tbody tr th {\n        vertical-align: top;\n    }\n\n    .dataframe thead th {\n        text-align: right;\n    }\n</style>\n<table border=\"1\" class=\"dataframe\">\n  <thead>\n    <tr style=\"text-align: right;\">\n      <th></th>\n      <th>id</th>\n      <th>label</th>\n      <th>tweet</th>\n    </tr>\n  </thead>\n  <tbody>\n    <tr>\n      <th>0</th>\n      <td>1</td>\n      <td>0</td>\n      <td>@user when a father is dysfunctional and is s...</td>\n    </tr>\n    <tr>\n      <th>1</th>\n      <td>2</td>\n      <td>0</td>\n      <td>@user @user thanks for #lyft credit i can't us...</td>\n    </tr>\n    <tr>\n      <th>2</th>\n      <td>3</td>\n      <td>0</td>\n      <td>bihday your majesty</td>\n    </tr>\n    <tr>\n      <th>3</th>\n      <td>4</td>\n      <td>0</td>\n      <td>#model   i love u take with u all the time in ...</td>\n    </tr>\n    <tr>\n      <th>4</th>\n      <td>5</td>\n      <td>0</td>\n      <td>factsguide: society now    #motivation</td>\n    </tr>\n    <tr>\n      <th>...</th>\n      <td>...</td>\n      <td>...</td>\n      <td>...</td>\n    </tr>\n    <tr>\n      <th>31957</th>\n      <td>31958</td>\n      <td>0</td>\n      <td>ate @user isz that youuu?ðððððð...</td>\n    </tr>\n    <tr>\n      <th>31958</th>\n      <td>31959</td>\n      <td>0</td>\n      <td>to see nina turner on the airwaves trying to...</td>\n    </tr>\n    <tr>\n      <th>31959</th>\n      <td>31960</td>\n      <td>0</td>\n      <td>listening to sad songs on a monday morning otw...</td>\n    </tr>\n    <tr>\n      <th>31960</th>\n      <td>31961</td>\n      <td>1</td>\n      <td>@user #sikh #temple vandalised in in #calgary,...</td>\n    </tr>\n    <tr>\n      <th>31961</th>\n      <td>31962</td>\n      <td>0</td>\n      <td>thank you @user for you follow</td>\n    </tr>\n  </tbody>\n</table>\n<p>31962 rows × 3 columns</p>\n</div>"
     },
     "metadata": {},
     "execution_count": 5
    }
   ],
   "source": [
    "dataframe"
   ]
  },
  {
   "cell_type": "code",
   "execution_count": 6,
   "metadata": {
    "tags": []
   },
   "outputs": [
    {
     "output_type": "stream",
     "name": "stdout",
     "text": "<class 'pandas.core.frame.DataFrame'>\nRangeIndex: 31962 entries, 0 to 31961\nData columns (total 3 columns):\n #   Column  Non-Null Count  Dtype \n---  ------  --------------  ----- \n 0   id      31962 non-null  int64 \n 1   label   31962 non-null  int64 \n 2   tweet   31962 non-null  object\ndtypes: int64(2), object(1)\nmemory usage: 749.2+ KB\n"
    }
   ],
   "source": [
    "dataframe.info()"
   ]
  },
  {
   "cell_type": "code",
   "execution_count": 7,
   "metadata": {},
   "outputs": [
    {
     "output_type": "execute_result",
     "data": {
      "text/plain": "                 id         label\ncount  31962.000000  31962.000000\nmean   15981.500000      0.070146\nstd     9226.778988      0.255397\nmin        1.000000      0.000000\n25%     7991.250000      0.000000\n50%    15981.500000      0.000000\n75%    23971.750000      0.000000\nmax    31962.000000      1.000000",
      "text/html": "<div>\n<style scoped>\n    .dataframe tbody tr th:only-of-type {\n        vertical-align: middle;\n    }\n\n    .dataframe tbody tr th {\n        vertical-align: top;\n    }\n\n    .dataframe thead th {\n        text-align: right;\n    }\n</style>\n<table border=\"1\" class=\"dataframe\">\n  <thead>\n    <tr style=\"text-align: right;\">\n      <th></th>\n      <th>id</th>\n      <th>label</th>\n    </tr>\n  </thead>\n  <tbody>\n    <tr>\n      <th>count</th>\n      <td>31962.000000</td>\n      <td>31962.000000</td>\n    </tr>\n    <tr>\n      <th>mean</th>\n      <td>15981.500000</td>\n      <td>0.070146</td>\n    </tr>\n    <tr>\n      <th>std</th>\n      <td>9226.778988</td>\n      <td>0.255397</td>\n    </tr>\n    <tr>\n      <th>min</th>\n      <td>1.000000</td>\n      <td>0.000000</td>\n    </tr>\n    <tr>\n      <th>25%</th>\n      <td>7991.250000</td>\n      <td>0.000000</td>\n    </tr>\n    <tr>\n      <th>50%</th>\n      <td>15981.500000</td>\n      <td>0.000000</td>\n    </tr>\n    <tr>\n      <th>75%</th>\n      <td>23971.750000</td>\n      <td>0.000000</td>\n    </tr>\n    <tr>\n      <th>max</th>\n      <td>31962.000000</td>\n      <td>1.000000</td>\n    </tr>\n  </tbody>\n</table>\n</div>"
     },
     "metadata": {},
     "execution_count": 7
    }
   ],
   "source": [
    "dataframe.describe()"
   ]
  },
  {
   "cell_type": "code",
   "execution_count": null,
   "metadata": {},
   "outputs": [],
   "source": []
  }
 ]
}